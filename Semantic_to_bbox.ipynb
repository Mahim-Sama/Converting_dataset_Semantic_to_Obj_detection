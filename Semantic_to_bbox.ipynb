{
 "cells": [
  {
   "cell_type": "markdown",
   "metadata": {},
   "source": [
    "## Masks to Bounding boxes (semantic segmentation to object detection segmentetaion)"
   ]
  },
  {
   "cell_type": "code",
   "execution_count": 9,
   "metadata": {},
   "outputs": [],
   "source": [
    "# Segmentation classes\n",
    "list_of_classes = ['Background', 'Water', 'Building_No_Damage', 'Building_Minor_Damage', \n",
    "                   'Building_Major_Damage', 'Building_Total_Destruction', 'Vehicle', 'Road-Clear', \n",
    "                   'Road-Blocked', 'Tree', 'Pool']"
   ]
  },
  {
   "cell_type": "code",
   "execution_count": 10,
   "metadata": {},
   "outputs": [],
   "source": [
    "import cv2\n",
    "import numpy as np\n",
    "import os\n",
    "import traceback"
   ]
  },
  {
   "cell_type": "code",
   "execution_count": 19,
   "metadata": {},
   "outputs": [
    {
     "name": "stdout",
     "output_type": "stream",
     "text": [
      "Found 449 image pairs to process.\n"
     ]
    }
   ],
   "source": [
    "def process_image(image_path, image_paths2):\n",
    "    #print(f\"Starting processing {image_path} and {image_paths2}\")\n",
    "    try:\n",
    "        image1 = cv2.imread(image_path)\n",
    "        image1 = cv2.cvtColor(image1, cv2.COLOR_BGR2RGB)\n",
    "        \n",
    "        class_colors = {\n",
    "            0: (0, 0, 0), # Background\n",
    "            1: (255, 0, 0), # Water\n",
    "            2: (0, 255, 0), # Building_No_Damage\n",
    "            3: (0, 255, 255), # Building_Minor_Damage\n",
    "            4: (0, 0, 255), # Building_Major_Damage\n",
    "            5: (255, 0, 255), # Building_Total_Destruction\n",
    "            6: (0, 165, 255), # Vehicle\n",
    "            7: (42, 42, 165), # Road-Clear\n",
    "            8: (105, 105, 105), # Road-Blocked\n",
    "            9: (203, 192, 255), # Tree\n",
    "            10: (255, 255, 0) # Pool\n",
    "        }\n",
    "        \n",
    "        lut = np.zeros((256, 1, 3), dtype=np.uint8)\n",
    "        for class_id, color in class_colors.items():\n",
    "            lut[class_id] = color\n",
    "        colored_image = cv2.LUT(image1, lut)\n",
    "\n",
    "        image2 = cv2.imread(image_paths2)\n",
    "        # Draw bounding boxes\n",
    "        rotated_boxes = []\n",
    "        for class_id, color in class_colors.items():\n",
    "            if class_id != 0:  \n",
    "                mask = cv2.inRange(colored_image, np.array(color), np.array(color))\n",
    "                contours, _ = cv2.findContours(mask, cv2.RETR_EXTERNAL, cv2.CHAIN_APPROX_SIMPLE)\n",
    "                for contour in contours:\n",
    "                    rotated_rect = cv2.minAreaRect(contour)\n",
    "                    rectangle_color = class_colors[class_id]\n",
    "                    box = cv2.boxPoints(rotated_rect)\n",
    "                    box = np.int0(box)\n",
    "                    rotated_boxes.append((class_id, box))\n",
    "                    for class_id, box in rotated_boxes:\n",
    "                        rectangle_color = class_colors[class_id]\n",
    "                        cv2.putText(image2, str(f\"class:{class_id}\"), (box[0][0], box[0][1]), cv2.FONT_HERSHEY_SIMPLEX, 3, rectangle_color, 3, cv2.LINE_AA)\n",
    "                    cv2.drawContours(image2, [box], 0, rectangle_color, 12) \n",
    "\n",
    "        save_dir = r\"M:\\SOL\\YOLO\\Converted-val-org-img\" #Save directory\n",
    "        output_filename = os.path.basename(image_paths2)\n",
    "        output_path = os.path.join(save_dir, os.path.splitext(output_filename)[0] + '_bbox.jpg')\n",
    "        cv2.imwrite(output_path, image2)\n",
    "        # print(f\"Finished processing {image_path}\")\n",
    "    except Exception as e:\n",
    "        print(f\"Error processing {image_path} and {image_paths2}: {e}\")\n",
    "        traceback.print_exc()\n",
    "        \n",
    "def main():\n",
    "    image_dir = r\"M:\\SOL\\YOLO\\val-label-img\" #Enter labeled image directory\n",
    "    image_dir2 = r\"M:\\SOL\\YOLO\\val-org-img\" #Enter original image directory\n",
    "    image_paths = [os.path.join(image_dir, filename) for filename in os.listdir(image_dir)]\n",
    "    image_paths2 = [os.path.join(image_dir2, filename) for filename in os.listdir(image_dir2)]\n",
    "    combined_paths = list(zip(image_paths, image_paths2))\n",
    "    print(f\"Found {len(combined_paths)} image pairs to process.\")\n",
    "\n",
    "    for image_path, image_paths2 in combined_paths:\n",
    "        process_image(image_path, image_paths2)\n",
    "\n",
    "if __name__ == '__main__':\n",
    "    main()"
   ]
  }
 ],
 "metadata": {
  "kernelspec": {
   "display_name": "Python 3",
   "language": "python",
   "name": "python3"
  },
  "language_info": {
   "codemirror_mode": {
    "name": "ipython",
    "version": 3
   },
   "file_extension": ".py",
   "mimetype": "text/x-python",
   "name": "python",
   "nbconvert_exporter": "python",
   "pygments_lexer": "ipython3",
   "version": "3.11.4"
  }
 },
 "nbformat": 4,
 "nbformat_minor": 2
}
