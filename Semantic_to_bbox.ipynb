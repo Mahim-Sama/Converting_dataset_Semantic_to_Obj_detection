{
 "cells": [
  {
   "cell_type": "markdown",
   "metadata": {},
   "source": [
    "## Masks to Bounding boxes (semantic segmentation to object detection segmentetaion)"
   ]
  },
  {
   "cell_type": "code",
   "execution_count": 9,
   "metadata": {},
   "outputs": [],
   "source": [
    "# Segmentation classes\n",
    "list_of_classes = ['Background', 'Water', 'Building_No_Damage', 'Building_Minor_Damage', \n",
    "                   'Building_Major_Damage', 'Building_Total_Destruction', 'Vehicle', 'Road-Clear', \n",
    "                   'Road-Blocked', 'Tree', 'Pool']"
   ]
  },
  {
   "cell_type": "code",
   "execution_count": 1,
   "metadata": {},
   "outputs": [],
   "source": [
    "import cv2\n",
    "import numpy as np\n",
    "import os\n",
    "import traceback"
   ]
  },
  {
   "cell_type": "code",
   "execution_count": 13,
   "metadata": {},
   "outputs": [
    {
     "name": "stdout",
     "output_type": "stream",
     "text": [
      "Found 37 image pairs to process.\n",
      "[0.39116666666666666, 0.261125, 0.463, 0.33625]\n"
     ]
    }
   ],
   "source": [
    "def process_image(image_path, image_paths2):\n",
    "    #print(f\"Starting processing {image_path} and {image_paths2}\")\n",
    "    rotated_boxes = []\n",
    "    try:\n",
    "        image1 = cv2.imread(image_path)\n",
    "        image1 = cv2.cvtColor(image1, cv2.COLOR_BGR2RGB)\n",
    "        \n",
    "        class_colors = {\n",
    "            0: (0, 0, 0), # Background\n",
    "            1: (255, 0, 0), # Water\n",
    "            2: (0, 255, 0), # Building_No_Damage\n",
    "            3: (0, 255, 255), # Building_Minor_Damage\n",
    "            4: (0, 0, 255), # Building_Major_Damage\n",
    "            5: (255, 0, 255), # Building_Total_Destruction\n",
    "            6: (0, 165, 255), # Vehicle\n",
    "            7: (42, 42, 165), # Road-Clear\n",
    "            8: (105, 105, 105), # Road-Blocked\n",
    "            9: (203, 192, 255), # Tree\n",
    "            10: (255, 255, 0) # Pool\n",
    "        }\n",
    "        \n",
    "        lut = np.zeros((256, 1, 3), dtype=np.uint8)\n",
    "        for class_id, color in class_colors.items():\n",
    "            lut[class_id] = color\n",
    "        colored_image = cv2.LUT(image1, lut)\n",
    "\n",
    "        image2 = cv2.imread(image_paths2)\n",
    "        image_width = image2.shape[0]\n",
    "        image_height = image2.shape[1]\n",
    "        # Draw bounding boxes\n",
    "        for class_id, color in class_colors.items():\n",
    "            if class_id != 0:  \n",
    "                mask = cv2.inRange(colored_image, np.array(color), np.array(color))\n",
    "                contours, _ = cv2.findContours(mask, cv2.RETR_EXTERNAL, cv2.CHAIN_APPROX_SIMPLE)\n",
    "                for contour in contours:\n",
    "                    rotated_rect = cv2.minAreaRect(contour)\n",
    "                    rectangle_color = class_colors[class_id]\n",
    "                    box = cv2.boxPoints(rotated_rect)\n",
    "                    box = np.int0(box)\n",
    "                    rotated_boxes.append((class_id, box))\n",
    "                    for class_id, box in rotated_boxes:\n",
    "                        rectangle_color = class_colors[class_id]\n",
    "                        cv2.putText(image2, str(f\"class:{class_id}\"), (box[0][0], box[0][1]), cv2.FONT_HERSHEY_SIMPLEX, 3, rectangle_color, 3, cv2.LINE_AA)\n",
    "                    cv2.drawContours(image2, [box], 0, rectangle_color, 12) \n",
    "\n",
    "        save_dir = r\"M:\\SOL\\YOLO\\Experimantation__Folder\\Cnvrtd_train_image\" #Save directory\n",
    "        output_filename = os.path.basename(image_paths2)\n",
    "        output_path = os.path.join(save_dir, os.path.splitext(output_filename)[0] + '_bbox.jpg')\n",
    "        cv2.imwrite(output_path, image2)\n",
    "        # print(f\"Finished processing {image_path}\")\n",
    "    except Exception as e:\n",
    "        print(f\"Error processing {image_path} and {image_paths2}: {e}\")\n",
    "        traceback.print_exc()\n",
    "    box_to_yolo_cords = box_to_yolo_format(rotated_boxes, image_width, image_height)\n",
    "    return box_to_yolo_cords\n",
    "\n",
    "def box_to_yolo_format(rotated_boxes, image_width, image_height):\n",
    "    yolo_coordinates = []\n",
    "    for r_box in rotated_boxes:\n",
    "        points = r_box[1]\n",
    "        points[:, 0] = np.clip(points[:, 0], 0, image_width)\n",
    "        points[:, 1] = np.clip(points[:, 1], 0, image_height) \n",
    "        # Calculate the axis-aligned bounding box\n",
    "        x_min, y_min = np.min(points, axis=0)\n",
    "        x_max, y_max = np.max(points, axis=0)\n",
    "\n",
    "        # Calculate center, width, and height\n",
    "        x_center = (x_min + x_max) / 2\n",
    "        y_center = (y_min + y_max) / 2\n",
    "        width = x_max - x_min\n",
    "        height = y_max - y_min\n",
    "\n",
    "        # Normalize the values\n",
    "        x_center_normalized = x_center / image_width\n",
    "        y_center_normalized = y_center / image_height\n",
    "        width_normalized = width / image_width\n",
    "        height_normalized = height / image_height\n",
    "\n",
    "        # YOLO format coordinates\n",
    "        yolo_coordinate = [x_center_normalized, y_center_normalized, width_normalized, height_normalized]\n",
    "        yolo_coordinates.append(yolo_coordinate)\n",
    "        return yolo_coordinates\n",
    "\n",
    "def main():\n",
    "    image_dir = r\"M:\\SOL\\YOLO\\Experimantation__Folder\\Experiment_cnvrtng_labeled\" #Enter labeled image directory\n",
    "    image_dir2 = r\"M:\\SOL\\YOLO\\Experimantation__Folder\\Experiment_cnvrtng_org\" #Enter original image directory\n",
    "    image_paths = [os.path.join(image_dir, filename) for filename in os.listdir(image_dir)]\n",
    "    image_paths2 = [os.path.join(image_dir2, filename) for filename in os.listdir(image_dir2)]\n",
    "    combined_paths = list(zip(image_paths, image_paths2))\n",
    "    print(f\"Found {len(combined_paths)} image pairs to process.\")\n",
    "    for image_path, image_paths2 in combined_paths:\n",
    "        process_image(image_path, image_paths2)\n",
    "    box_to_cord = process_image(image_path, image_paths2)\n",
    "    print(box_to_cord[0])\n",
    "    \n",
    "\n",
    "if __name__ == '__main__':\n",
    "    main()"
   ]
  }
 ],
 "metadata": {
  "kernelspec": {
   "display_name": "Python 3",
   "language": "python",
   "name": "python3"
  },
  "language_info": {
   "codemirror_mode": {
    "name": "ipython",
    "version": 3
   },
   "file_extension": ".py",
   "mimetype": "text/x-python",
   "name": "python",
   "nbconvert_exporter": "python",
   "pygments_lexer": "ipython3",
   "version": "3.11.4"
  }
 },
 "nbformat": 4,
 "nbformat_minor": 2
}
